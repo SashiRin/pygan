{
 "cells": [
  {
   "cell_type": "code",
   "execution_count": 1,
   "metadata": {},
   "outputs": [],
   "source": [
    "!pip uninstall pygan -y -q\n",
    "!pip install git+https://github.com/gompu123/pygan.git -q"
   ]
  },
  {
   "cell_type": "code",
   "execution_count": 2,
   "metadata": {
    "collapsed": true
   },
   "outputs": [],
   "source": [
    "import pygan\n",
    "import pygan.augmentator as pyaug"
   ]
  },
  {
   "cell_type": "code",
   "execution_count": 3,
   "metadata": {},
   "outputs": [
    {
     "data": {
      "application/vnd.jupyter.widget-view+json": {
       "model_id": "e6ee7a3804d24f7cb3653956686add32",
       "version_major": 2,
       "version_minor": 0
      },
      "text/plain": [
       "A Jupyter Widget"
      ]
     },
     "metadata": {},
     "output_type": "display_data"
    },
    {
     "data": {
      "application/vnd.jupyter.widget-view+json": {
       "model_id": "130a89c515ef44ef97c32bf70ba3526e",
       "version_major": 2,
       "version_minor": 0
      },
      "text/plain": [
       "A Jupyter Widget"
      ]
     },
     "metadata": {},
     "output_type": "display_data"
    },
    {
     "name": "stdout",
     "output_type": "stream",
     "text": [
      "Training [    1:   10] D Loss 1.366714, G Loss 0.720913\n"
     ]
    },
    {
     "data": {
      "application/vnd.jupyter.widget-view+json": {
       "model_id": "b9968c2293fd40a284dd964f3f97303b",
       "version_major": 2,
       "version_minor": 0
      },
      "text/plain": [
       "A Jupyter Widget"
      ]
     },
     "metadata": {},
     "output_type": "display_data"
    },
    {
     "name": "stdout",
     "output_type": "stream",
     "text": [
      "Training [    2:   10] D Loss 1.328156, G Loss 0.757895\n"
     ]
    },
    {
     "data": {
      "application/vnd.jupyter.widget-view+json": {
       "model_id": "b71675f765a84b7698625681d25d7822",
       "version_major": 2,
       "version_minor": 0
      },
      "text/plain": [
       "A Jupyter Widget"
      ]
     },
     "metadata": {},
     "output_type": "display_data"
    },
    {
     "name": "stdout",
     "output_type": "stream",
     "text": [
      "Training [    3:   10] D Loss 1.294995, G Loss 0.781073\n"
     ]
    },
    {
     "data": {
      "application/vnd.jupyter.widget-view+json": {
       "model_id": "dab6649e43d246d5a1729c0163fdd2cf",
       "version_major": 2,
       "version_minor": 0
      },
      "text/plain": [
       "A Jupyter Widget"
      ]
     },
     "metadata": {},
     "output_type": "display_data"
    },
    {
     "name": "stdout",
     "output_type": "stream",
     "text": [
      "Training [    4:   10] D Loss 1.262915, G Loss 0.799892\n"
     ]
    },
    {
     "data": {
      "application/vnd.jupyter.widget-view+json": {
       "model_id": "9cbbcf2230ae46199653fbbcc9fe2ce8",
       "version_major": 2,
       "version_minor": 0
      },
      "text/plain": [
       "A Jupyter Widget"
      ]
     },
     "metadata": {},
     "output_type": "display_data"
    },
    {
     "name": "stdout",
     "output_type": "stream",
     "text": [
      "Training [    5:   10] D Loss 1.226887, G Loss 0.819121\n"
     ]
    },
    {
     "data": {
      "application/vnd.jupyter.widget-view+json": {
       "model_id": "239f78b78b48458fad892a795620bfbb",
       "version_major": 2,
       "version_minor": 0
      },
      "text/plain": [
       "A Jupyter Widget"
      ]
     },
     "metadata": {},
     "output_type": "display_data"
    },
    {
     "name": "stdout",
     "output_type": "stream",
     "text": [
      "Training [    6:   10] D Loss 1.191326, G Loss 0.837207\n"
     ]
    },
    {
     "data": {
      "application/vnd.jupyter.widget-view+json": {
       "model_id": "dc8dae73234c4f70a1f45243294c313f",
       "version_major": 2,
       "version_minor": 0
      },
      "text/plain": [
       "A Jupyter Widget"
      ]
     },
     "metadata": {},
     "output_type": "display_data"
    },
    {
     "name": "stdout",
     "output_type": "stream",
     "text": [
      "Training [    7:   10] D Loss 1.156534, G Loss 0.858846\n"
     ]
    },
    {
     "data": {
      "application/vnd.jupyter.widget-view+json": {
       "model_id": "a1e11fb1fac0439393d3c7d67217b06e",
       "version_major": 2,
       "version_minor": 0
      },
      "text/plain": [
       "A Jupyter Widget"
      ]
     },
     "metadata": {},
     "output_type": "display_data"
    },
    {
     "name": "stdout",
     "output_type": "stream",
     "text": [
      "Training [    8:   10] D Loss 1.119822, G Loss 0.879395\n"
     ]
    },
    {
     "data": {
      "application/vnd.jupyter.widget-view+json": {
       "model_id": "d6e1da6085d14594ba7ceb08af5ed364",
       "version_major": 2,
       "version_minor": 0
      },
      "text/plain": [
       "A Jupyter Widget"
      ]
     },
     "metadata": {},
     "output_type": "display_data"
    },
    {
     "name": "stdout",
     "output_type": "stream",
     "text": [
      "Training [    9:   10] D Loss 1.083151, G Loss 0.905303\n"
     ]
    },
    {
     "data": {
      "application/vnd.jupyter.widget-view+json": {
       "model_id": "74782c3106114145af2b74a3c5785d07",
       "version_major": 2,
       "version_minor": 0
      },
      "text/plain": [
       "A Jupyter Widget"
      ]
     },
     "metadata": {},
     "output_type": "display_data"
    },
    {
     "name": "stderr",
     "output_type": "stream",
     "text": [
      "100%|██████████| 71/71 [00:00<00:00, 712.63it/s]"
     ]
    },
    {
     "name": "stdout",
     "output_type": "stream",
     "text": [
      "Training [   10:   10] D Loss 1.043707, G Loss 0.934690\n",
      "\n"
     ]
    },
    {
     "name": "stderr",
     "output_type": "stream",
     "text": [
      "\n"
     ]
    },
    {
     "data": {
      "text/plain": [
       "(<pygan.models.cgan.CGAN at 0x10fa95ba8>,\n",
       "    A..papers  A.papers  B.papers  C.papers  Dif.countries  \\\n",
       " 0       14.0       9.0       8.0       5.0            1.0   \n",
       " 1        4.0      11.0       8.0       4.0            1.0   \n",
       " 2        9.0       8.0       8.0       3.0            1.0   \n",
       " 3       12.0       9.0      11.0       5.0            1.0   \n",
       " 4        6.0       5.0       9.0       1.0            1.0   \n",
       " 5        8.0      15.0       7.0       4.0            1.0   \n",
       " 6       16.0      13.0      12.0       8.0            1.0   \n",
       " 7       11.0      10.0      10.0       5.0            1.0   \n",
       " 8       12.0      14.0      11.0       4.0            1.0   \n",
       " 9       11.0      11.0       8.0       3.0            1.0   \n",
       " \n",
       "    Perc_non_australian  Number.people  PHD  Max.years.univ  Grants.succ  \\\n",
       " 0             0.750000            2.0  1.0            10.0          2.0   \n",
       " 1             0.750000            2.0  1.0            10.0          1.0   \n",
       " 2             0.800000            2.0  1.0            15.0          2.0   \n",
       " 3             0.857143            2.0  1.0            15.0          2.0   \n",
       " 4             0.666667            2.0  1.0            10.0          1.0   \n",
       " 5             0.600000            1.0  1.0            10.0          3.0   \n",
       " 6             0.363636            2.0  2.0            15.0          3.0   \n",
       " 7             0.800000            2.0  1.0            15.0          3.0   \n",
       " 8             0.500000            2.0  1.0            15.0          2.0   \n",
       " 9             0.615385            1.0  1.0            15.0          2.0   \n",
       " \n",
       "        ...       SEO.11  SEO.12  SEO.13  SEO.14  SEO.15  SEO.16  SEO.17  \\\n",
       " 0      ...          0.0     0.0     1.0     0.0     0.0     0.0     0.0   \n",
       " 1      ...          0.0     0.0     2.0     0.0     0.0     0.0     0.0   \n",
       " 2      ...          0.0     0.0     2.0     0.0     0.0     0.0     0.0   \n",
       " 3      ...          0.0     0.0     1.0     0.0     0.0     0.0     0.0   \n",
       " 4      ...          0.0     0.0     1.0     0.0     0.0     0.0     0.0   \n",
       " 5      ...          0.0     0.0     1.0     0.0     0.0     0.0     0.0   \n",
       " 6      ...          0.0     0.0     0.0     0.0     0.0     0.0     0.0   \n",
       " 7      ...          0.0     0.0     1.0     0.0     0.0     0.0     0.0   \n",
       " 8      ...          0.0     0.0     1.0     0.0     0.0     0.0     0.0   \n",
       " 9      ...          0.0     0.0     0.0     0.0     0.0     0.0     0.0   \n",
       " \n",
       "    SEO.18  SEO.19  Grant.Status  \n",
       " 0     0.0     0.0           0.0  \n",
       " 1     0.0     0.0           0.0  \n",
       " 2     0.0     0.0           0.0  \n",
       " 3     0.0     0.0           0.0  \n",
       " 4     0.0     0.0           0.0  \n",
       " 5     0.0     0.0           1.0  \n",
       " 6     0.0     0.0           1.0  \n",
       " 7     0.0     0.0           1.0  \n",
       " 8     0.0     0.0           1.0  \n",
       " 9     0.0     0.0           1.0  \n",
       " \n",
       " [10 rows x 71 columns])"
      ]
     },
     "execution_count": 3,
     "metadata": {},
     "output_type": "execute_result"
    }
   ],
   "source": [
    "import types\n",
    "import pandas as pd\n",
    "\n",
    "opt = types.SimpleNamespace()\n",
    "opt.data_root = pd.read_csv('../testing/data.csv')\n",
    "opt.y_label = 'Grant.Status'\n",
    "opt.z_dim = 100\n",
    "opt.lrD = 0.00005\n",
    "opt.lrG = 0.00005\n",
    "opt.gen_num = 10\n",
    "opt.gan_type = 'CGAN'\n",
    "opt.epoch_num = 10\n",
    "opt.path = './result'\n",
    "opt.batch_size = 128\n",
    "opt.all_yes = True\n",
    "pyaug.main(opt)"
   ]
  },
  {
   "cell_type": "code",
   "execution_count": 4,
   "metadata": {},
   "outputs": [
    {
     "data": {
      "text/html": [
       "<div>\n",
       "<style>\n",
       "    .dataframe thead tr:only-child th {\n",
       "        text-align: right;\n",
       "    }\n",
       "\n",
       "    .dataframe thead th {\n",
       "        text-align: left;\n",
       "    }\n",
       "\n",
       "    .dataframe tbody tr th {\n",
       "        vertical-align: top;\n",
       "    }\n",
       "</style>\n",
       "<table border=\"1\" class=\"dataframe\">\n",
       "  <thead>\n",
       "    <tr style=\"text-align: right;\">\n",
       "      <th></th>\n",
       "      <th>A..papers</th>\n",
       "      <th>A.papers</th>\n",
       "      <th>B.papers</th>\n",
       "      <th>C.papers</th>\n",
       "      <th>Dif.countries</th>\n",
       "      <th>Perc_non_australian</th>\n",
       "      <th>Number.people</th>\n",
       "      <th>PHD</th>\n",
       "      <th>Max.years.univ</th>\n",
       "      <th>Grants.succ</th>\n",
       "      <th>...</th>\n",
       "      <th>SEO.11</th>\n",
       "      <th>SEO.12</th>\n",
       "      <th>SEO.13</th>\n",
       "      <th>SEO.14</th>\n",
       "      <th>SEO.15</th>\n",
       "      <th>SEO.16</th>\n",
       "      <th>SEO.17</th>\n",
       "      <th>SEO.18</th>\n",
       "      <th>SEO.19</th>\n",
       "      <th>Grant.Status</th>\n",
       "    </tr>\n",
       "  </thead>\n",
       "  <tbody>\n",
       "    <tr>\n",
       "      <th>0</th>\n",
       "      <td>14.0</td>\n",
       "      <td>9.0</td>\n",
       "      <td>8.0</td>\n",
       "      <td>5.0</td>\n",
       "      <td>1.0</td>\n",
       "      <td>0.750000</td>\n",
       "      <td>2.0</td>\n",
       "      <td>1.0</td>\n",
       "      <td>10.0</td>\n",
       "      <td>2.0</td>\n",
       "      <td>...</td>\n",
       "      <td>0.0</td>\n",
       "      <td>0.0</td>\n",
       "      <td>1.0</td>\n",
       "      <td>0.0</td>\n",
       "      <td>0.0</td>\n",
       "      <td>0.0</td>\n",
       "      <td>0.0</td>\n",
       "      <td>0.0</td>\n",
       "      <td>0.0</td>\n",
       "      <td>0.0</td>\n",
       "    </tr>\n",
       "    <tr>\n",
       "      <th>1</th>\n",
       "      <td>4.0</td>\n",
       "      <td>11.0</td>\n",
       "      <td>8.0</td>\n",
       "      <td>4.0</td>\n",
       "      <td>1.0</td>\n",
       "      <td>0.750000</td>\n",
       "      <td>2.0</td>\n",
       "      <td>1.0</td>\n",
       "      <td>10.0</td>\n",
       "      <td>1.0</td>\n",
       "      <td>...</td>\n",
       "      <td>0.0</td>\n",
       "      <td>0.0</td>\n",
       "      <td>2.0</td>\n",
       "      <td>0.0</td>\n",
       "      <td>0.0</td>\n",
       "      <td>0.0</td>\n",
       "      <td>0.0</td>\n",
       "      <td>0.0</td>\n",
       "      <td>0.0</td>\n",
       "      <td>0.0</td>\n",
       "    </tr>\n",
       "    <tr>\n",
       "      <th>2</th>\n",
       "      <td>9.0</td>\n",
       "      <td>8.0</td>\n",
       "      <td>8.0</td>\n",
       "      <td>3.0</td>\n",
       "      <td>1.0</td>\n",
       "      <td>0.800000</td>\n",
       "      <td>2.0</td>\n",
       "      <td>1.0</td>\n",
       "      <td>15.0</td>\n",
       "      <td>2.0</td>\n",
       "      <td>...</td>\n",
       "      <td>0.0</td>\n",
       "      <td>0.0</td>\n",
       "      <td>2.0</td>\n",
       "      <td>0.0</td>\n",
       "      <td>0.0</td>\n",
       "      <td>0.0</td>\n",
       "      <td>0.0</td>\n",
       "      <td>0.0</td>\n",
       "      <td>0.0</td>\n",
       "      <td>0.0</td>\n",
       "    </tr>\n",
       "    <tr>\n",
       "      <th>3</th>\n",
       "      <td>12.0</td>\n",
       "      <td>9.0</td>\n",
       "      <td>11.0</td>\n",
       "      <td>5.0</td>\n",
       "      <td>1.0</td>\n",
       "      <td>0.857143</td>\n",
       "      <td>2.0</td>\n",
       "      <td>1.0</td>\n",
       "      <td>15.0</td>\n",
       "      <td>2.0</td>\n",
       "      <td>...</td>\n",
       "      <td>0.0</td>\n",
       "      <td>0.0</td>\n",
       "      <td>1.0</td>\n",
       "      <td>0.0</td>\n",
       "      <td>0.0</td>\n",
       "      <td>0.0</td>\n",
       "      <td>0.0</td>\n",
       "      <td>0.0</td>\n",
       "      <td>0.0</td>\n",
       "      <td>0.0</td>\n",
       "    </tr>\n",
       "    <tr>\n",
       "      <th>4</th>\n",
       "      <td>6.0</td>\n",
       "      <td>5.0</td>\n",
       "      <td>9.0</td>\n",
       "      <td>1.0</td>\n",
       "      <td>1.0</td>\n",
       "      <td>0.666667</td>\n",
       "      <td>2.0</td>\n",
       "      <td>1.0</td>\n",
       "      <td>10.0</td>\n",
       "      <td>1.0</td>\n",
       "      <td>...</td>\n",
       "      <td>0.0</td>\n",
       "      <td>0.0</td>\n",
       "      <td>1.0</td>\n",
       "      <td>0.0</td>\n",
       "      <td>0.0</td>\n",
       "      <td>0.0</td>\n",
       "      <td>0.0</td>\n",
       "      <td>0.0</td>\n",
       "      <td>0.0</td>\n",
       "      <td>0.0</td>\n",
       "    </tr>\n",
       "    <tr>\n",
       "      <th>5</th>\n",
       "      <td>8.0</td>\n",
       "      <td>15.0</td>\n",
       "      <td>7.0</td>\n",
       "      <td>4.0</td>\n",
       "      <td>1.0</td>\n",
       "      <td>0.600000</td>\n",
       "      <td>1.0</td>\n",
       "      <td>1.0</td>\n",
       "      <td>10.0</td>\n",
       "      <td>3.0</td>\n",
       "      <td>...</td>\n",
       "      <td>0.0</td>\n",
       "      <td>0.0</td>\n",
       "      <td>1.0</td>\n",
       "      <td>0.0</td>\n",
       "      <td>0.0</td>\n",
       "      <td>0.0</td>\n",
       "      <td>0.0</td>\n",
       "      <td>0.0</td>\n",
       "      <td>0.0</td>\n",
       "      <td>1.0</td>\n",
       "    </tr>\n",
       "    <tr>\n",
       "      <th>6</th>\n",
       "      <td>16.0</td>\n",
       "      <td>13.0</td>\n",
       "      <td>12.0</td>\n",
       "      <td>8.0</td>\n",
       "      <td>1.0</td>\n",
       "      <td>0.363636</td>\n",
       "      <td>2.0</td>\n",
       "      <td>2.0</td>\n",
       "      <td>15.0</td>\n",
       "      <td>3.0</td>\n",
       "      <td>...</td>\n",
       "      <td>0.0</td>\n",
       "      <td>0.0</td>\n",
       "      <td>0.0</td>\n",
       "      <td>0.0</td>\n",
       "      <td>0.0</td>\n",
       "      <td>0.0</td>\n",
       "      <td>0.0</td>\n",
       "      <td>0.0</td>\n",
       "      <td>0.0</td>\n",
       "      <td>1.0</td>\n",
       "    </tr>\n",
       "    <tr>\n",
       "      <th>7</th>\n",
       "      <td>11.0</td>\n",
       "      <td>10.0</td>\n",
       "      <td>10.0</td>\n",
       "      <td>5.0</td>\n",
       "      <td>1.0</td>\n",
       "      <td>0.800000</td>\n",
       "      <td>2.0</td>\n",
       "      <td>1.0</td>\n",
       "      <td>15.0</td>\n",
       "      <td>3.0</td>\n",
       "      <td>...</td>\n",
       "      <td>0.0</td>\n",
       "      <td>0.0</td>\n",
       "      <td>1.0</td>\n",
       "      <td>0.0</td>\n",
       "      <td>0.0</td>\n",
       "      <td>0.0</td>\n",
       "      <td>0.0</td>\n",
       "      <td>0.0</td>\n",
       "      <td>0.0</td>\n",
       "      <td>1.0</td>\n",
       "    </tr>\n",
       "    <tr>\n",
       "      <th>8</th>\n",
       "      <td>12.0</td>\n",
       "      <td>14.0</td>\n",
       "      <td>11.0</td>\n",
       "      <td>4.0</td>\n",
       "      <td>1.0</td>\n",
       "      <td>0.500000</td>\n",
       "      <td>2.0</td>\n",
       "      <td>1.0</td>\n",
       "      <td>15.0</td>\n",
       "      <td>2.0</td>\n",
       "      <td>...</td>\n",
       "      <td>0.0</td>\n",
       "      <td>0.0</td>\n",
       "      <td>1.0</td>\n",
       "      <td>0.0</td>\n",
       "      <td>0.0</td>\n",
       "      <td>0.0</td>\n",
       "      <td>0.0</td>\n",
       "      <td>0.0</td>\n",
       "      <td>0.0</td>\n",
       "      <td>1.0</td>\n",
       "    </tr>\n",
       "    <tr>\n",
       "      <th>9</th>\n",
       "      <td>11.0</td>\n",
       "      <td>11.0</td>\n",
       "      <td>8.0</td>\n",
       "      <td>3.0</td>\n",
       "      <td>1.0</td>\n",
       "      <td>0.615385</td>\n",
       "      <td>1.0</td>\n",
       "      <td>1.0</td>\n",
       "      <td>15.0</td>\n",
       "      <td>2.0</td>\n",
       "      <td>...</td>\n",
       "      <td>0.0</td>\n",
       "      <td>0.0</td>\n",
       "      <td>0.0</td>\n",
       "      <td>0.0</td>\n",
       "      <td>0.0</td>\n",
       "      <td>0.0</td>\n",
       "      <td>0.0</td>\n",
       "      <td>0.0</td>\n",
       "      <td>0.0</td>\n",
       "      <td>1.0</td>\n",
       "    </tr>\n",
       "  </tbody>\n",
       "</table>\n",
       "<p>10 rows × 71 columns</p>\n",
       "</div>"
      ],
      "text/plain": [
       "   A..papers  A.papers  B.papers  C.papers  Dif.countries  \\\n",
       "0       14.0       9.0       8.0       5.0            1.0   \n",
       "1        4.0      11.0       8.0       4.0            1.0   \n",
       "2        9.0       8.0       8.0       3.0            1.0   \n",
       "3       12.0       9.0      11.0       5.0            1.0   \n",
       "4        6.0       5.0       9.0       1.0            1.0   \n",
       "5        8.0      15.0       7.0       4.0            1.0   \n",
       "6       16.0      13.0      12.0       8.0            1.0   \n",
       "7       11.0      10.0      10.0       5.0            1.0   \n",
       "8       12.0      14.0      11.0       4.0            1.0   \n",
       "9       11.0      11.0       8.0       3.0            1.0   \n",
       "\n",
       "   Perc_non_australian  Number.people  PHD  Max.years.univ  Grants.succ  \\\n",
       "0             0.750000            2.0  1.0            10.0          2.0   \n",
       "1             0.750000            2.0  1.0            10.0          1.0   \n",
       "2             0.800000            2.0  1.0            15.0          2.0   \n",
       "3             0.857143            2.0  1.0            15.0          2.0   \n",
       "4             0.666667            2.0  1.0            10.0          1.0   \n",
       "5             0.600000            1.0  1.0            10.0          3.0   \n",
       "6             0.363636            2.0  2.0            15.0          3.0   \n",
       "7             0.800000            2.0  1.0            15.0          3.0   \n",
       "8             0.500000            2.0  1.0            15.0          2.0   \n",
       "9             0.615385            1.0  1.0            15.0          2.0   \n",
       "\n",
       "       ...       SEO.11  SEO.12  SEO.13  SEO.14  SEO.15  SEO.16  SEO.17  \\\n",
       "0      ...          0.0     0.0     1.0     0.0     0.0     0.0     0.0   \n",
       "1      ...          0.0     0.0     2.0     0.0     0.0     0.0     0.0   \n",
       "2      ...          0.0     0.0     2.0     0.0     0.0     0.0     0.0   \n",
       "3      ...          0.0     0.0     1.0     0.0     0.0     0.0     0.0   \n",
       "4      ...          0.0     0.0     1.0     0.0     0.0     0.0     0.0   \n",
       "5      ...          0.0     0.0     1.0     0.0     0.0     0.0     0.0   \n",
       "6      ...          0.0     0.0     0.0     0.0     0.0     0.0     0.0   \n",
       "7      ...          0.0     0.0     1.0     0.0     0.0     0.0     0.0   \n",
       "8      ...          0.0     0.0     1.0     0.0     0.0     0.0     0.0   \n",
       "9      ...          0.0     0.0     0.0     0.0     0.0     0.0     0.0   \n",
       "\n",
       "   SEO.18  SEO.19  Grant.Status  \n",
       "0     0.0     0.0           0.0  \n",
       "1     0.0     0.0           0.0  \n",
       "2     0.0     0.0           0.0  \n",
       "3     0.0     0.0           0.0  \n",
       "4     0.0     0.0           0.0  \n",
       "5     0.0     0.0           1.0  \n",
       "6     0.0     0.0           1.0  \n",
       "7     0.0     0.0           1.0  \n",
       "8     0.0     0.0           1.0  \n",
       "9     0.0     0.0           1.0  \n",
       "\n",
       "[10 rows x 71 columns]"
      ]
     },
     "execution_count": 4,
     "metadata": {},
     "output_type": "execute_result"
    }
   ],
   "source": [
    "results = pd.read_csv('./result/gen_data.csv')\n",
    "results"
   ]
  }
 ],
 "metadata": {
  "kernelspec": {
   "display_name": "Python 3",
   "language": "python",
   "name": "python3"
  },
  "language_info": {
   "codemirror_mode": {
    "name": "ipython",
    "version": 3
   },
   "file_extension": ".py",
   "mimetype": "text/x-python",
   "name": "python",
   "nbconvert_exporter": "python",
   "pygments_lexer": "ipython3",
   "version": "3.6.3"
  }
 },
 "nbformat": 4,
 "nbformat_minor": 2
}
