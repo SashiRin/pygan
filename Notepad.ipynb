{
 "cells": [
  {
   "cell_type": "markdown",
   "metadata": {},
   "source": [
    "# P A N D A S\n",
    "---\n",
    "Read all datalist and naming them"
   ]
  },
  {
   "cell_type": "code",
   "execution_count": 76,
   "metadata": {},
   "outputs": [],
   "source": [
    "import pandas as pd\n",
    "\n",
    "real_df = pd.read_csv('../data/train_set.csv')\n",
    "generated_df = pd.read_csv('../data/gen_data.csv')\n",
    "test_df = pd.read_csv('../data/test_set.csv')"
   ]
  },
  {
   "cell_type": "markdown",
   "metadata": {},
   "source": [
    "## F U N C T I O N S\n",
    "---\n",
    "* For unique values"
   ]
  },
  {
   "cell_type": "code",
   "execution_count": 2,
   "metadata": {},
   "outputs": [],
   "source": [
    "def get_unique(df):\n",
    "    import numpy as np\n",
    "    categories = { }\n",
    "    length = len(df)\n",
    "    threshold = length // 20\n",
    "    for col in df.columns:\n",
    "        unique = np.sort(df[col].unique())\n",
    "        if df[col].dtype == np.int or len(unique) < threshold:\n",
    "            categories[col] = unique\n",
    "    return categories\n",
    "\n",
    "# categories = get_unique(read_df)"
   ]
  },
  {
   "cell_type": "code",
   "execution_count": 5,
   "metadata": {},
   "outputs": [],
   "source": [
    "def round_list(categories, df):\n",
    "    from bisect import bisect_left\n",
    "    def round_val(mlist, mnum):\n",
    "        pos = bisect_left(mlist, mnum)\n",
    "        if pos == 0:\n",
    "            return mlist[0]\n",
    "        if pos == len(mlist):\n",
    "            return mlist[-1]\n",
    "        before = mlist[pos - 1]\n",
    "        after = mlist[pos]\n",
    "        if after - mnum < mnum - before:\n",
    "            return after\n",
    "        else:\n",
    "            return before\n",
    "\n",
    "    for col in categories:\n",
    "        rounder = categories[col]\n",
    "        for i in range(len(df)):\n",
    "            df[col][i] = round_val(rounder, df[col][i])\n",
    "    return df\n",
    "\n",
    "# rounded_generated_df = round_list(categories, generated_df)"
   ]
  },
  {
   "cell_type": "code",
   "execution_count": 6,
   "metadata": {},
   "outputs": [],
   "source": [
    "categories = get_unique(real_df)\n",
    "rounded_generated_df = round_list(categories, generated_df)"
   ]
  },
  {
   "cell_type": "markdown",
   "metadata": {},
   "source": [
    "## P Y T O R C H\n",
    "---\n",
    "* Generating Data Unlimited with Generator"
   ]
  },
  {
   "cell_type": "code",
   "execution_count": 7,
   "metadata": {},
   "outputs": [],
   "source": [
    "import torch\n",
    "from torch.autograd import Variable\n",
    "\n",
    "def generate(G, gen_num=1000):\n",
    "    z = torch.rand(gen_num, 100)\n",
    "    c_ = torch.zeros(gen_num // 2, 1)\n",
    "    for i in range(1, 2):\n",
    "        temp = torch.zeros(gen_num // 2, 1) + i\n",
    "        c_ = torch.cat([c_, temp], 0)\n",
    "    c = torch.zeros(gen_num, 2)\n",
    "    c.scatter_(1, c_.type(torch.LongTensor), 1)\n",
    "    z, c = Variable(z), Variable(c)\n",
    "    G.eval()\n",
    "    results = G(z, c)\n",
    "    resultsd = torch.cat([results.data, c_], 1)\n",
    "    G.train()\n",
    "    return pd.DataFrame(\n",
    "        resultsd.numpy(),\n",
    "        columns=real_df.columns\n",
    "    )"
   ]
  },
  {
   "cell_type": "code",
   "execution_count": 39,
   "metadata": {},
   "outputs": [],
   "source": [
    "from models.generators import ConditionalBNGenerator as CBNG\n",
    "\n",
    "G = CBNG(100, 70, 2)\n",
    "# G_weight = torch.load('../data/generator_weight')\n",
    "# G.load_state_dict(G_weight)"
   ]
  },
  {
   "cell_type": "code",
   "execution_count": 27,
   "metadata": {},
   "outputs": [],
   "source": [
    "from xgboost import XGBClassifier\n",
    "from sklearn.metrics import roc_curve, auc, roc_auc_score\n",
    "xgbc = XGBClassifier()\n",
    "def xgbrun(X_train, y_train, X_test, y_test):\n",
    "    xgbc.fit(X_train,y_train)\n",
    "    Y_pred_xgb=xgbc.predict(X_test)\n",
    "    xgb_auc = roc_auc_score(y_test,Y_pred_xgb)\n",
    "    return xgb_auc\n",
    "\n",
    "def auc_hist(real_set, fake_set, test_set):\n",
    "    auclist = []\n",
    "    for i in range(len(fake_data) // 100):\n",
    "        real_set_t, real_set_l = real_set.drop('Grant.Status', axis=1), real_set['Grant.Status']\n",
    "        fake_set_t, fake_set_l = fake_set[: i * 100].drop('Grant.Status', axis=1), fake_set[: i * 100]['Grant.Status']\n",
    "        test_set_t, test_set_l = test_set.drop('Grant.Status', axis=1), test_set['Grant.Status']\n",
    "        train_set_t, train_set_l = pd.concat([real_set_t, fake_set_t]), pd.concat([real_set_l, fake_set_l])\n",
    "        auc = xgbrun(train_set_t, train_set_l, test_set_t, test_set_l)\n",
    "        auclist += [auc]\n",
    "    return auclist"
   ]
  },
  {
   "cell_type": "code",
   "execution_count": 40,
   "metadata": {},
   "outputs": [],
   "source": [
    "fake_data = generate(G, 2000)\n",
    "fake_data = fake_data * real_df.std() + real_df.mean()\n",
    "fake_data = round_list(categories, fake_data)"
   ]
  },
  {
   "cell_type": "code",
   "execution_count": 42,
   "metadata": {},
   "outputs": [
    {
     "data": {
      "image/png": "[encoded data removed]",
      "text/plain": [
       "<matplotlib.figure.Figure at 0x1161a4438>"
      ]
     },
     "metadata": {},
     "output_type": "display_data"
    }
   ],
   "source": [
    "import matplotlib\n",
    "import matplotlib.pyplot as plt\n",
    "%matplotlib inline\n",
    "plt.style.use('ggplot')\n",
    "\n",
    "real_set = real_df\n",
    "fake_set = fake_data\n",
    "test_set = test_df\n",
    "auclist = auc_hist(real_set, fake_set, test_set)\n",
    "plt.plot(auclist)\n",
    "plt.show()"
   ]
  },
  {
   "cell_type": "code",
   "execution_count": 63,
   "metadata": {},
   "outputs": [],
   "source": [
    "# additional_set = test_set[:1000]\n",
    "# atest_set = test_set[1000:]\n",
    "\n",
    "# auclist_ac = auc_hist(real_set, additional_set, atest_set)\n",
    "# auclist_ge = auc_hist(real_set, fake_data[:1000], atest_set)"
   ]
  },
  {
   "cell_type": "code",
   "execution_count": 63,
   "metadata": {},
   "outputs": [
    {
     "data": {
      "image/png": "[encoded data removed]",
      "text/plain": [
       "<matplotlib.figure.Figure at 0x114eeb198>"
      ]
     },
     "metadata": {},
     "output_type": "display_data"
    }
   ],
   "source": [
    "plt.cla()\n",
    "plt.clf()\n",
    "plt.xlim(-1, 11)\n",
    "\n",
    "actual_add, = plt.plot(auclist_ac, label='actual_add')\n",
    "generated_add, = plt.plot(auclist_ge, label='generated_add')\n",
    "plt.title('AUC over the number of additional data')\n",
    "plt.xlabel('# of additional data (100)')\n",
    "plt.ylabel('AUC')\n",
    "plt.legend(handles=[actual_add, generated_add])\n",
    "plt.show()"
   ]
  },
  {
   "cell_type": "code",
   "execution_count": 68,
   "metadata": {},
   "outputs": [],
   "source": [
    "# X_train\n",
    "# y_train\n",
    "# X_test\n",
    "# y_test"
   ]
  },
  {
   "cell_type": "code",
   "execution_count": 84,
   "metadata": {},
   "outputs": [
    {
     "name": "stderr",
     "output_type": "stream",
     "text": [
      "/Users/garb50/anaconda3/envs/fluid/lib/python3.6/site-packages/sklearn/model_selection/_split.py:2026: FutureWarning: From version 0.21, test_size will always complement train_size unless both are specified.\n",
      "  FutureWarning)\n"
     ]
    }
   ],
   "source": [
    "from sklearn.model_selection import train_test_split\n",
    "train_df2, test_df2 = train_test_split(pd.read_csv('../data/train_preprocessed2.csv'), train_size = 0.75, random_state=21)\n",
    "# X_train = train_df.drop('Grant.Status', axis=1)\n",
    "# y_train = train_df[['Grant.Status']]\n",
    "# X_test = test_df.drop('Grant.Status', axis=1)\n",
    "# y_test = test_df[['Grant.Status']]\n",
    "# train_df2.to_csv('../data/train_set2.csv', index=False)\n",
    "# test_df2.to_csv('../data/test_set2.csv', index=False)"
   ]
  },
  {
   "cell_type": "code",
   "execution_count": 93,
   "metadata": {},
   "outputs": [],
   "source": [
    "# additional_set = test_df2[:1000]\n",
    "# atest_set = test_df2[1000:]\n",
    "fake_data2 = pd.read_csv('../result/gen_data.csv')\n",
    "\n",
    "# auclist_ac2 = auc_hist(train_df2, test_df2[:1000], test_df2[1000:])\n",
    "auclist_ge2 = auc_hist(train_df2, fake_data2, test_df2[1000:])"
   ]
  },
  {
   "cell_type": "code",
   "execution_count": 94,
   "metadata": {},
   "outputs": [
    {
     "data": {
      "image/png": "[encoded data removed]",
      "text/plain": [
       "<matplotlib.figure.Figure at 0x107d23208>"
      ]
     },
     "metadata": {},
     "output_type": "display_data"
    }
   ],
   "source": [
    "plt.cla()\n",
    "plt.clf()\n",
    "plt.xlim(-1, 11)\n",
    "\n",
    "actual_add, = plt.plot(auclist_ac2, label='actual_add')\n",
    "generated_add, = plt.plot(auclist_ge2, label='generated_add')\n",
    "plt.title('AUC over the number of additional data')\n",
    "plt.xlabel('# of additional data (100)')\n",
    "plt.ylabel('AUC')\n",
    "plt.legend(handles=[actual_add, generated_add])\n",
    "plt.show()"
   ]
  },
  {
   "cell_type": "code",
   "execution_count": null,
   "metadata": {},
   "outputs": [],
   "source": [
    "plt.hist(dfgg, align='left', rwidth=0.5, bins=range(0, 16))\n",
    "plt.xlabel(\"# of people in team\")\n",
    "plt.show()"
   ]
  },
  {
   "cell_type": "code",
   "execution_count": null,
   "metadata": {},
   "outputs": [],
   "source": [
    "dfg = df.groupby('Number.people')['Number.people'].count()\n",
    "dfg.index = dfg.index.astype(int)\n",
    "dfg"
   ]
  },
  {
   "cell_type": "code",
   "execution_count": null,
   "metadata": {},
   "outputs": [],
   "source": [
    "dfgg = df['Number.people']\n",
    "dfgg.index += 1"
   ]
  },
  {
   "cell_type": "code",
   "execution_count": null,
   "metadata": {},
   "outputs": [],
   "source": [
    "(df3[['Person.ID.{}'.format(attr) for attr in range(1, 16)]].notna().sum(axis=1) == 0).sum()"
   ]
  },
  {
   "cell_type": "code",
   "execution_count": null,
   "metadata": {},
   "outputs": [],
   "source": [
    "dfrfcd = (df3[['RFCD.Code.{}'.format(attr) for attr in range(1, 6)]].fillna(0) != 0).sum(axis=1)\n",
    "plt.hist(dfrfcd, align='left', rwidth=0.5, bins=range(0, 7))\n",
    "plt.xlabel(\"# of RECD in team\")\n",
    "plt.show()"
   ]
  },
  {
   "cell_type": "code",
   "execution_count": null,
   "metadata": {},
   "outputs": [],
   "source": [
    "dfseo = (df3[['SEO.Code.{}'.format(attr) for attr in range(1, 6)]].fillna(0) != 0).sum(axis=1)\n",
    "plt.hist(dfseo, align='left', rwidth=0.5, bins=range(0, 7))\n",
    "plt.xlabel(\"# of SEO in team\")\n",
    "plt.show()"
   ]
  },
  {
   "cell_type": "code",
   "execution_count": null,
   "metadata": {},
   "outputs": [],
   "source": [
    "import torch\n",
    "import torchvision.datasets as datasets\n",
    "import torchvision.transforms as transforms"
   ]
  },
  {
   "cell_type": "code",
   "execution_count": null,
   "metadata": {},
   "outputs": [],
   "source": [
    "data_loader = torch.utils.data.DataLoader(datasets.MNIST('../data', train=True, download=True,\n",
    "                                                         transform=transforms.Compose([\n",
    "                                                         transforms.ToTensor(),\n",
    "                                                         transforms.Normalize((0.1307,), (0.3081,)),\n",
    "                                                         transforms.Lambda(lambda x: x.view(-1) )\n",
    "                                                       ])),\n",
    "                                        batch_size=128, shuffle=True)"
   ]
  },
  {
   "cell_type": "code",
   "execution_count": null,
   "metadata": {},
   "outputs": [],
   "source": [
    "for data, label in data_loader:\n",
    "    print(data.size())\n",
    "    break"
   ]
  },
  {
   "cell_type": "code",
   "execution_count": null,
   "metadata": {},
   "outputs": [],
   "source": [
    "tdf = pd.DataFrame([1, 2, 3], columns=data_loader.dataset.df.columns)"
   ]
  },
  {
   "cell_type": "code",
   "execution_count": null,
   "metadata": {},
   "outputs": [],
   "source": [
    "tdf"
   ]
  },
  {
   "cell_type": "code",
   "execution_count": null,
   "metadata": {},
   "outputs": [],
   "source": [
    "def show_result():\n",
    "    images = read_csv('../data/gen_data.csv', index=False)"
   ]
  },
  {
   "cell_type": "code",
   "execution_count": null,
   "metadata": {},
   "outputs": [],
   "source": [
    "images = pd.read_csv('../data/gen_data.csv')"
   ]
  },
  {
   "cell_type": "code",
   "execution_count": null,
   "metadata": {},
   "outputs": [],
   "source": [
    "images = images.drop(['784'], axis=1)"
   ]
  },
  {
   "cell_type": "code",
   "execution_count": null,
   "metadata": {},
   "outputs": [],
   "source": [
    "data = images.loc[0].as_matrix()"
   ]
  },
  {
   "cell_type": "code",
   "execution_count": null,
   "metadata": {},
   "outputs": [],
   "source": [
    "tdata = torch.Tensor(data)"
   ]
  },
  {
   "cell_type": "code",
   "execution_count": null,
   "metadata": {},
   "outputs": [],
   "source": [
    "tdata = tdata.contiguous().view(-1, 28)"
   ]
  },
  {
   "cell_type": "code",
   "execution_count": null,
   "metadata": {},
   "outputs": [],
   "source": [
    "ax[0, 0].cla()\n",
    "ax[0, 0].imshow(tdata.numpy(), cmap='gray')"
   ]
  },
  {
   "cell_type": "code",
   "execution_count": null,
   "metadata": {},
   "outputs": [],
   "source": [
    "fig, ax = plt.subplots(10, 10, figsize=(5, 5))"
   ]
  },
  {
   "cell_type": "code",
   "execution_count": null,
   "metadata": {},
   "outputs": [],
   "source": [
    "import itertools\n",
    "for i, j in itertools.product(range(10), range(10)):\n",
    "    ax[i, j].get_xaxis().set_visible(False)\n",
    "    ax[i, j].get_yaxis().set_visible(False)\n"
   ]
  },
  {
   "cell_type": "code",
   "execution_count": null,
   "metadata": {},
   "outputs": [],
   "source": [
    "plt.show()"
   ]
  },
  {
   "cell_type": "code",
   "execution_count": null,
   "metadata": {},
   "outputs": [],
   "source": [
    "plt.imshow(tdata.numpy(), cmap='gray')\n",
    "# tdata"
   ]
  },
  {
   "cell_type": "code",
   "execution_count": null,
   "metadata": {},
   "outputs": [],
   "source": [
    "def show_images_with_label(images, labels, view_num=10):\n",
    "    fig, ax = plt.subplots(view_num, view_num, figsize=(10, 10))\n",
    "    for i in range(view_num * view_num):\n",
    "        ax[i // 10, i % 10].imshow(images.loc[i + 300].as_matrix().reshape((28, -1)), cmap='gray')"
   ]
  },
  {
   "cell_type": "code",
   "execution_count": null,
   "metadata": {},
   "outputs": [],
   "source": [
    "show_images_with_label(images, None)"
   ]
  },
  {
   "cell_type": "code",
   "execution_count": null,
   "metadata": {},
   "outputs": [],
   "source": [
    "df2 = pd.read_csv('../data/gen_data.csv')\n",
    "df1 = pd.read_csv('../data/train_preprocessed2.csv')"
   ]
  },
  {
   "cell_type": "code",
   "execution_count": null,
   "metadata": {},
   "outputs": [],
   "source": [
    "round_list(get_unique(df1), df2)"
   ]
  },
  {
   "cell_type": "code",
   "execution_count": null,
   "metadata": {},
   "outputs": [],
   "source": [
    "df2.to_csv('../data/rounded.csv', index=False)"
   ]
  },
  {
   "cell_type": "code",
   "execution_count": null,
   "metadata": {},
   "outputs": [],
   "source": [
    "df2"
   ]
  },
  {
   "cell_type": "code",
   "execution_count": null,
   "metadata": {},
   "outputs": [],
   "source": [
    "df1['A..papers'].max()\n",
    "df1['A..papers'].mean()\n",
    "df1['A..papers'].std()"
   ]
  },
  {
   "cell_type": "code",
   "execution_count": null,
   "metadata": {},
   "outputs": [],
   "source": []
  },
  {
   "cell_type": "code",
   "execution_count": null,
   "metadata": {},
   "outputs": [],
   "source": [
    "X_train, y_train, X_test, y_test = spliter(df1)"
   ]
  },
  {
   "cell_type": "code",
   "execution_count": null,
   "metadata": {},
   "outputs": [],
   "source": [
    "len(X_train), len(y_train), len(X_test), len(y_test)\n",
    "\n",
    "xgbrun(X_train, y_train, X_test, y_test)"
   ]
  },
  {
   "cell_type": "code",
   "execution_count": null,
   "metadata": {},
   "outputs": [],
   "source": [
    "# X_train\n",
    "# df2.drop('Grant.Status', axis=1)\n",
    "\n",
    "X_train = pd.concat([X_train, df2.drop(['Grant.Status'], axis=1)])\n",
    "len(X_train)"
   ]
  },
  {
   "cell_type": "code",
   "execution_count": null,
   "metadata": {},
   "outputs": [],
   "source": [
    "# y_train.rename('Grant.Status')\n",
    "y_train = pd.concat([y_train, df2['Grant.Status'].to_frame('Grant.Status')])\n",
    "len(y_train)"
   ]
  },
  {
   "cell_type": "code",
   "execution_count": null,
   "metadata": {},
   "outputs": [],
   "source": [
    "xgbrun(X_train, y_train, X_test, y_test)"
   ]
  },
  {
   "cell_type": "code",
   "execution_count": null,
   "metadata": {},
   "outputs": [],
   "source": [
    "train_set, test_set = train_test_split(df1, train_size=0.75)"
   ]
  },
  {
   "cell_type": "code",
   "execution_count": null,
   "metadata": {},
   "outputs": [],
   "source": [
    "train_set.to_csv('../data/train_set.csv', index=False)\n",
    "test_set.to_csv('../data/test_set.csv', index=False)"
   ]
  },
  {
   "cell_type": "code",
   "execution_count": null,
   "metadata": {},
   "outputs": [],
   "source": [
    "train_ = pd.concat([train_set.drop(['Grant.Status'], axis=1), df2.drop(['Grant.Status'], axis=1)])\n",
    "label_ = pd.concat([train_set['Grant.Status'], df2['Grant.Status']]).to_frame('Grant.Status')"
   ]
  },
  {
   "cell_type": "code",
   "execution_count": null,
   "metadata": {},
   "outputs": [],
   "source": [
    "xgbrun(train_, label_, test_set.drop(['Grant.Status'], axis=1), test_set['Grant.Status'].to_frame('Grant.Status'))"
   ]
  },
  {
   "cell_type": "code",
   "execution_count": null,
   "metadata": {},
   "outputs": [],
   "source": [
    "xgbrun(train_set.drop(['Grant.Status'], axis=1), train_set['Grant.Status'].to_frame('Grant.Status'), test_set.drop(['Grant.Status'], axis=1), test_set['Grant.Status'].to_frame('Grant.Status'))"
   ]
  },
  {
   "cell_type": "code",
   "execution_count": null,
   "metadata": {},
   "outputs": [],
   "source": [
    "df4 = pd.read_csv('../result/gen_data.csv')\n",
    "df5 = pd.read_csv('../result2/gen_data.csv')"
   ]
  },
  {
   "cell_type": "code",
   "execution_count": null,
   "metadata": {},
   "outputs": [],
   "source": [
    "train__ = pd.concat([train_, df5.drop(['Grant.Status'], axis=1)])"
   ]
  },
  {
   "cell_type": "code",
   "execution_count": null,
   "metadata": {},
   "outputs": [],
   "source": [
    "label__ = pd.concat([label_, df5['Grant.Status'].to_frame('Grant.Status')])"
   ]
  },
  {
   "cell_type": "code",
   "execution_count": null,
   "metadata": {},
   "outputs": [],
   "source": [
    "len(train__), len(label__)"
   ]
  },
  {
   "cell_type": "code",
   "execution_count": null,
   "metadata": {},
   "outputs": [],
   "source": [
    "xgbrun(train__, label__, test_set.drop(['Grant.Status'], axis=1), test_set['Grant.Status'].to_frame('Grant.Status'))"
   ]
  },
  {
   "cell_type": "code",
   "execution_count": null,
   "metadata": {},
   "outputs": [],
   "source": [
    "train_2 = pd.concat([train_set.drop(['Grant.Status'], axis=1), df2.drop(['Grant.Status'], axis=1)])\n",
    "label_2 = pd.concat([train_set['Grant.Status'], df2['Grant.Status']]).to_frame('Grant.Status')"
   ]
  },
  {
   "cell_type": "code",
   "execution_count": null,
   "metadata": {},
   "outputs": [],
   "source": [
    "xgbrun(train_2, label_2, test_set.drop(['Grant.Status'], axis=1), test_set['Grant.Status'].to_frame('Grant.Status'))"
   ]
  },
  {
   "cell_type": "code",
   "execution_count": null,
   "metadata": {},
   "outputs": [],
   "source": [
    "from models.generators import ConditionalBNGenerator\n",
    "model = ConditionalBNGenerator(100, 70, 2)\n",
    "state_dict = torch.load('../data/generator_weight')\n",
    "model.load_state_dict(state_dict)"
   ]
  },
  {
   "cell_type": "code",
   "execution_count": null,
   "metadata": {},
   "outputs": [],
   "source": [
    "generated = generate(model)"
   ]
  },
  {
   "cell_type": "code",
   "execution_count": null,
   "metadata": {},
   "outputs": [],
   "source": []
  },
  {
   "cell_type": "code",
   "execution_count": null,
   "metadata": {},
   "outputs": [],
   "source": [
    "generated = generated * df1.std() + df1.mean()\n",
    "round_list(categories, generated)"
   ]
  },
  {
   "cell_type": "code",
   "execution_count": null,
   "metadata": {},
   "outputs": [],
   "source": [
    "train_10 = pd.concat([train_set.drop(['Grant.Status'], axis=1), generated.drop(['Grant.Status'], axis=1)])\n",
    "label_10 = pd.concat([train_set['Grant.Status'], generated['Grant.Status']]).to_frame('Grant.Status')"
   ]
  },
  {
   "cell_type": "code",
   "execution_count": null,
   "metadata": {},
   "outputs": [],
   "source": [
    "xgbrun(train_10, label_10, test_set.drop(['Grant.Status'], axis=1), test_set['Grant.Status'].to_frame('Grant.Status'))"
   ]
  },
  {
   "cell_type": "code",
   "execution_count": null,
   "metadata": {},
   "outputs": [],
   "source": [
    "train_9 = train_10[:900]\n",
    "label_9 = label_10[:900]\n",
    "len(train_9)"
   ]
  },
  {
   "cell_type": "code",
   "execution_count": null,
   "metadata": {},
   "outputs": [],
   "source": [
    "xgbrun(train_9, label_9, test_set.drop(['Grant.Status'], axis=1), test_set['Grant.Status'].to_frame('Grant.Status'))"
   ]
  },
  {
   "cell_type": "code",
   "execution_count": null,
   "metadata": {},
   "outputs": [],
   "source": [
    "auclist = []\n",
    "for i in range(11):\n",
    "    trainer = pd.concat([train_set.drop(['Grant.Status'], axis=1), generated[:i*100].drop(['Grant.Status'], axis=1)])\n",
    "    labeler = pd.concat([train_set['Grant.Status'], generated[:i*100]['Grant.Status']]).to_frame('Grant.Status')\n",
    "    auc = xgbrun(trainer, labeler, test_set.drop(['Grant.Status'], axis=1), test_set['Grant.Status'].to_frame('Grant.Status'))\n",
    "    print(auc)\n",
    "    auclist += [auc]"
   ]
  },
  {
   "cell_type": "code",
   "execution_count": null,
   "metadata": {},
   "outputs": [],
   "source": [
    "import matplotlib.pyplot as plt\n",
    "%matplotlib inline\n",
    "\n",
    "plt.plot(auclist)\n",
    "plt.show()"
   ]
  },
  {
   "cell_type": "code",
   "execution_count": null,
   "metadata": {},
   "outputs": [],
   "source": []
  },
  {
   "cell_type": "raw",
   "metadata": {},
   "source": []
  }
 ],
 "metadata": {
  "kernelspec": {
   "display_name": "mykernel",
   "language": "python",
   "name": "mykernel"
  },
  "language_info": {
   "codemirror_mode": {
    "name": "ipython",
    "version": 3
   },
   "file_extension": ".py",
   "mimetype": "text/x-python",
   "name": "python",
   "nbconvert_exporter": "python",
   "pygments_lexer": "ipython3",
   "version": "3.6.4"
  }
 },
 "nbformat": 4,
 "nbformat_minor": 2
}
